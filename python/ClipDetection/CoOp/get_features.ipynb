{
 "cells": [
  {
   "cell_type": "code",
   "execution_count": 20,
   "metadata": {},
   "outputs": [],
   "source": [
    "import torch\n",
    "import clip\n",
    "import os"
   ]
  },
  {
   "cell_type": "code",
   "execution_count": 19,
   "metadata": {},
   "outputs": [],
   "source": [
    "fpath = \"/ckb-nfs/home/zcafego/git/CoOp/output/imagenet/CoOp/vit_l14_ep50_1shots/nctx16_cscFalse_ctpend/seed3/prompt_learner/model.pth.tar-50\""
   ]
  },
  {
   "cell_type": "code",
   "execution_count": 24,
   "metadata": {},
   "outputs": [],
   "source": [
    "clip_model, clip_preprocessor = clip.load('ViT-L/14', device='cpu', download_root=os.path.expanduser('~/.cache/clip'))"
   ]
  },
  {
   "cell_type": "code",
   "execution_count": 3,
   "metadata": {},
   "outputs": [],
   "source": [
    "prompt_learner = torch.load(fpath, map_location='cpu')"
   ]
  },
  {
   "cell_type": "code",
   "execution_count": 30,
   "metadata": {},
   "outputs": [],
   "source": [
    "state_dict = prompt_learner['state_dict']\n",
    "context = state_dict['ctx']\n",
    "del state_dict['token_prefix']\n",
    "del state_dict['token_suffix']"
   ]
  },
  {
   "cell_type": "code",
   "execution_count": 31,
   "metadata": {},
   "outputs": [
    {
     "data": {
      "text/plain": [
       "OrderedDict([('ctx',\n",
       "              tensor([[-0.0715,  0.0522, -0.0568,  ..., -0.0718,  0.0073,  0.0138],\n",
       "                      [ 0.0116,  0.0768,  0.0134,  ...,  0.0413, -0.0926, -0.0156],\n",
       "                      [-0.0660,  0.0338, -0.0153,  ..., -0.0483, -0.0496,  0.0276],\n",
       "                      ...,\n",
       "                      [-0.0456, -0.0377, -0.0662,  ..., -0.0372, -0.0216, -0.0146],\n",
       "                      [-0.0619, -0.0449,  0.0169,  ..., -0.0164, -0.0257, -0.0486],\n",
       "                      [-0.0397,  0.0165,  0.0873,  ...,  0.0305, -0.0193, -0.0122]],\n",
       "                     dtype=torch.float16))])"
      ]
     },
     "execution_count": 31,
     "metadata": {},
     "output_type": "execute_result"
    }
   ],
   "source": [
    "state_dict"
   ]
  },
  {
   "cell_type": "code",
   "execution_count": 25,
   "metadata": {},
   "outputs": [],
   "source": [
    "transformer = clip_model.transformer\n",
    "positional_embedding = clip_model.positional_embedding\n",
    "ln_final = clip_model.ln_final\n",
    "text_projection = clip_model.text_projection\n",
    "dtype = clip_model.dtype"
   ]
  },
  {
   "cell_type": "code",
   "execution_count": 28,
   "metadata": {},
   "outputs": [
    {
     "data": {
      "text/plain": [
       "Parameter containing:\n",
       "tensor([[ 0.0016,  0.0020,  0.0002,  ..., -0.0013,  0.0008,  0.0015],\n",
       "        [ 0.0042,  0.0029,  0.0002,  ...,  0.0010,  0.0015, -0.0012],\n",
       "        [ 0.0018,  0.0007, -0.0012,  ..., -0.0029, -0.0009,  0.0026],\n",
       "        ...,\n",
       "        [ 0.0216,  0.0055, -0.0101,  ..., -0.0065, -0.0029,  0.0037],\n",
       "        [ 0.0188,  0.0073, -0.0077,  ..., -0.0025, -0.0009,  0.0057],\n",
       "        [ 0.0330,  0.0281,  0.0289,  ...,  0.0160,  0.0102, -0.0310]],\n",
       "       requires_grad=True)"
      ]
     },
     "execution_count": 28,
     "metadata": {},
     "output_type": "execute_result"
    }
   ],
   "source": [
    "positional_embedding"
   ]
  },
  {
   "cell_type": "code",
   "execution_count": null,
   "metadata": {},
   "outputs": [],
   "source": [
    "x = prompts + positional_embedding.type(dtype)\n",
    "x = x.permute(1, 0, 2)  # NLD -> LND\n",
    "x = transformer(x)\n",
    "x = x.permute(1, 0, 2)  # LND -> NLD\n",
    "x = ln_final(x).type(dtype)\n",
    "\n",
    "# x.shape = [batch_size, n_ctx, transformer.width]\n",
    "# take features from the eot embedding (eot_token is the highest number in each sequence)\n",
    "x = x[torch.arange(x.shape[0]), tokenized_prompts.argmax(dim=-1)] @ self.text_projection"
   ]
  }
 ],
 "metadata": {
  "kernelspec": {
   "display_name": "venv",
   "language": "python",
   "name": "python3"
  },
  "language_info": {
   "codemirror_mode": {
    "name": "ipython",
    "version": 3
   },
   "file_extension": ".py",
   "mimetype": "text/x-python",
   "name": "python",
   "nbconvert_exporter": "python",
   "pygments_lexer": "ipython3",
   "version": "3.8.10"
  },
  "orig_nbformat": 4
 },
 "nbformat": 4,
 "nbformat_minor": 2
}
